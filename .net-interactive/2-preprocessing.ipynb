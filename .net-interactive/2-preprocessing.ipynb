{
 "cells": [
  {
   "cell_type": "code",
   "execution_count": 1,
   "metadata": {},
   "outputs": [
    {
     "data": {
      "text/html": [
       "Installing package OpenCvSharp4.Windows, version 4.2.0.20200208......."
      ]
     },
     "metadata": {},
     "output_type": "display_data"
    },
    {
     "ename": "Unhandled exception",
     "evalue": "input.fsx (2,7)-(2,18) typecheck error The value or constructor 'OpenCvSharp' is not defined.",
     "output_type": "error",
     "traceback": [
      "input.fsx (2,7)-(2,18) typecheck error The value or constructor 'OpenCvSharp' is not defined."
     ]
    }
   ],
   "source": [
    "#r \"nuget:OpenCvSharp4.Windows, 4.2.0.20200208\"\n",
    "\n",
    "using OpenCvSharp;"
   ]
  },
  {
   "cell_type": "code",
   "execution_count": 2,
   "metadata": {},
   "outputs": [],
   "source": [
    "using System;\n",
    "using System.Drawing;\n",
    "using System.IO;\n",
    "using System.Linq;"
   ]
  },
  {
   "cell_type": "code",
   "execution_count": 3,
   "metadata": {},
   "outputs": [],
   "source": [
    "var imagesFolderPath = \"F:/Palm-vein-ID/small-db\"; // path to images\n",
    "var imagesOutputDirectory = \"F:/Palm-vein-ID/small-db/output\"; // path to output directory"
   ]
  },
  {
   "cell_type": "code",
   "execution_count": 4,
   "metadata": {},
   "outputs": [],
   "source": [
    "var binaryROIFolder = \"F:/Palm-vein-ID/small-db/output/bin/\";"
   ]
  },
  {
   "cell_type": "code",
   "execution_count": 5,
   "metadata": {},
   "outputs": [],
   "source": [
    "var elementSize = new OpenCvSharp.Size(3, 3);"
   ]
  },
  {
   "cell_type": "code",
   "execution_count": 6,
   "metadata": {},
   "outputs": [],
   "source": [
    "public class PalmModel {\n",
    "    public string FileName { get; set; }\n",
    "    public string Directory { get; set; }\n",
    "    public OpenCvSharp.Mat SourceImage { get; set; }\n",
    "    public OpenCvSharp.Mat ThresholdImage { get; set; } // = binary\n",
    "    \n",
    "    // get image params\n",
    "    public int Width { get; set; }\n",
    "    public int Height { get; set; }\n",
    "    \n",
    "    public OpenCvSharp.Mat ROI { get; set; }\n",
    "    // public OpenCvSharp.Mat FinalThreshold { get; set; }\n",
    "}\n",
    "\n",
    "public List<PalmModel> listOfPalms = new List<PalmModel>();"
   ]
  },
  {
   "cell_type": "code",
   "execution_count": 7,
   "metadata": {},
   "outputs": [
    {
     "name": "stdout",
     "output_type": "stream",
     "text": [
      "[05.03.2020 21:19:41] Loading ROI binary dump\n",
      "[05.03.2020 21:19:43] ROI Dump was loaded.\n",
      "Total palms: 6\n",
      "001_l_940_01\n",
      "F:/Palm-vein-ID/small-db/output\\001_l_940_01\n"
     ]
    },
    {
     "data": {
      "text/html": [
       "<span><a href=\"#\"><b>Sample source image</b></a><img height=\"400\" src=\"sample/source.jpg\" width=\"400\"></img></span>"
      ]
     },
     "metadata": {},
     "output_type": "display_data"
    }
   ],
   "source": [
    "Console.WriteLine($\"[{DateTime.Now}] Loading ROI binary dump\");\n",
    "\n",
    "Directory.GetFiles(imagesFolderPath, \"*.jpg\").ToList().ForEach(x => {\n",
    "    x = x.Remove(0, x.LastIndexOf('\\\\') + 1).Replace(\".jpg\", \"\");\n",
    "    using (var fs = new OpenCvSharp.FileStorage($\"{binaryROIFolder}{x}.bin\", OpenCvSharp.FileStorage.Mode.Read)) {\n",
    "        listOfPalms.Add(new PalmModel() {\n",
    "            FileName = fs[\"FileName\"].ReadString(),\n",
    "            Directory = fs[\"Directory\"].ReadString(),\n",
    "            SourceImage = fs[\"SourceImage\"].ReadMat(),\n",
    "            ThresholdImage = fs[\"ThresholdImage\"].ReadMat(),\n",
    "            Width = fs[\"Width\"].ReadInt(),\n",
    "            Height = fs[\"Height\"].ReadInt(),\n",
    "            ROI = fs[\"ROI\"].ReadMat()\n",
    "        });\n",
    "    }\n",
    "});\n",
    "\n",
    "Console.WriteLine($\"[{DateTime.Now}] ROI Dump was loaded.\");\n",
    "Console.WriteLine($\"Total palms: {listOfPalms.Count}\");\n",
    "Console.WriteLine (listOfPalms[4].FileName);\n",
    "Console.WriteLine (listOfPalms[4].Directory);\n",
    "\n",
    "display(\n",
    "    span(\n",
    "        a[href: \"#\"](b(\"Sample source image\")),\n",
    "        img[src: \"sample/source.jpg\", height: 400, width: 400] /* used random image */\n",
    "    )\n",
    ");"
   ]
  },
  {
   "cell_type": "code",
   "execution_count": 8,
   "metadata": {},
   "outputs": [
    {
     "data": {
      "text/html": [
       "<center><b>Preprocessing</b></center><hr />"
      ]
     },
     "metadata": {},
     "output_type": "display_data"
    }
   ],
   "source": [
    "display(HTML(\"<center><b>Preprocessing</b></center><hr />\"));"
   ]
  },
  {
   "cell_type": "code",
   "execution_count": 9,
   "metadata": {},
   "outputs": [
    {
     "data": {
      "text/html": [
       "<span><a href=\"#\"><b>Noise reduced</b></a><img src=\"sample/reduce_noise.jpg\"></img></span>"
      ]
     },
     "metadata": {},
     "output_type": "display_data"
    }
   ],
   "source": [
    "listOfPalms.ForEach( x => {\n",
    "    OpenCvSharp.Cv2.MedianBlur (x.ROI, x.ROI, 5);\n",
    "    // OpenCvSharp.Cv2.CvtColor(x.ROI, x.ROI, ColorConversionCodes.BGR2GRAY);\n",
    "    OpenCvSharp.Cv2.FastNlMeansDenoising (x.ROI, x.ROI);\n",
    "    OpenCvSharp.Cv2.CvtColor (x.ROI, x.ROI, OpenCvSharp.ColorConversionCodes.GRAY2BGR);\n",
    "    OpenCvSharp.Cv2.ImWrite (x.Directory + \"\\\\reduce_noise.jpg\", x.ROI);\n",
    "});\n",
    "\n",
    "display(\n",
    "    span(\n",
    "        a[href: \"#\"](b(\"Noise reduced\")),\n",
    "        img[src: \"sample/reduce_noise.jpg\"] /* used random image */\n",
    "    )\n",
    ");"
   ]
  },
  {
   "cell_type": "code",
   "execution_count": 10,
   "metadata": {},
   "outputs": [
    {
     "data": {
      "text/html": [
       "<span><a href=\"#\"><b>Equalized image</b></a><img src=\"sample/equalized_hist.jpg\"></img></span>"
      ]
     },
     "metadata": {},
     "output_type": "display_data"
    }
   ],
   "source": [
    "listOfPalms.ForEach(x =>\n",
    "{\n",
    "    var element = OpenCvSharp.Cv2.GetStructuringElement (\n",
    "        OpenCvSharp.MorphShapes.Cross, \n",
    "        elementSize\n",
    "    ); \n",
    "    \n",
    "    OpenCvSharp.Cv2.MorphologyEx (x.ROI, \n",
    "                                  x.ROI, \n",
    "                                  OpenCvSharp.MorphTypes.Open, \n",
    "                                  element);\n",
    "    OpenCvSharp.Cv2.CvtColor (x.ROI, \n",
    "                              x.ROI, \n",
    "                              OpenCvSharp.ColorConversionCodes.BGR2YUV);\n",
    "\n",
    "    // OpenCvSharp.Cv2.EqualizeHist(x.ROI, x.ROI);\n",
    "    var RGB = OpenCvSharp.Cv2.Split (x.ROI);\n",
    "\n",
    "    RGB[0] = RGB[0].EqualizeHist ();\n",
    "    RGB[1] = RGB[1].EqualizeHist ();\n",
    "    RGB[2] = RGB[2].EqualizeHist ();\n",
    "\n",
    "    OpenCvSharp.Cv2.Merge (RGB, x.ROI);\n",
    "    OpenCvSharp.Cv2.CvtColor (x.ROI, \n",
    "                              x.ROI, \n",
    "                              OpenCvSharp.ColorConversionCodes.YUV2BGR);\n",
    "\n",
    "    OpenCvSharp.Cv2.ImWrite (x.Directory + \"\\\\equalized_hist.jpg\", x.ROI);\n",
    "});\n",
    "\n",
    "display(\n",
    "    span(\n",
    "        a[href: \"#\"](b(\"Equalized image\")),\n",
    "        img[src: \"sample/equalized_hist.jpg\"] /* used random image */\n",
    "    )\n",
    ");"
   ]
  },
  {
   "cell_type": "code",
   "execution_count": 11,
   "metadata": {},
   "outputs": [
    {
     "data": {
      "text/html": [
       "<span><a href=\"#\"><b>Inverted image</b></a><img src=\"sample/inverted.jpg\"></img></span>"
      ]
     },
     "metadata": {},
     "output_type": "display_data"
    }
   ],
   "source": [
    "listOfPalms.ForEach(x =>\n",
    "{\n",
    "    OpenCvSharp.Cv2.BitwiseNot (x.ROI, x.ROI);\n",
    "    OpenCvSharp.Cv2.ImWrite (x.Directory + \"\\\\inverted.jpg\", x.ROI);\n",
    "});\n",
    "\n",
    "display(\n",
    "    span(\n",
    "        a[href: \"#\"](b(\"Inverted image\")),\n",
    "        img[src: \"sample/inverted.jpg\"] /* used random image */\n",
    "    )\n",
    ");"
   ]
  },
  {
   "cell_type": "code",
   "execution_count": 12,
   "metadata": {},
   "outputs": [
    {
     "data": {
      "text/html": [
       "<span><a href=\"#\"><b>Eroded image</b></a><img src=\"sample/eroded.jpg\"></img></span>"
      ]
     },
     "metadata": {},
     "output_type": "display_data"
    }
   ],
   "source": [
    "listOfPalms.ForEach (x => {\n",
    "    var element = OpenCvSharp.Cv2.GetStructuringElement (\n",
    "        OpenCvSharp.MorphShapes.Cross, \n",
    "        elementSize\n",
    "    ); \n",
    "\n",
    "    OpenCvSharp.Cv2.CvtColor (x.ROI, \n",
    "                              x.ROI, \n",
    "                              OpenCvSharp.ColorConversionCodes.BGR2GRAY);\n",
    "    OpenCvSharp.Cv2.Erode (x.ROI, x.ROI, element);\n",
    "    OpenCvSharp.Cv2.ImWrite (x.Directory + \"\\\\eroded.jpg\", x.ROI);\n",
    "});\n",
    "\n",
    "display(\n",
    "    span(\n",
    "        a[href: \"#\"](b(\"Eroded image\")),\n",
    "        img[src: \"sample/eroded.jpg\"] /* used random image */\n",
    "    )\n",
    ");"
   ]
  },
  {
   "cell_type": "code",
   "execution_count": 13,
   "metadata": {},
   "outputs": [
    {
     "data": {
      "text/html": [
       "<span><a href=\"#\"><b>ROI image</b></a><img src=\"sample/ROI.jpg\"></img></span>"
      ]
     },
     "metadata": {},
     "output_type": "display_data"
    },
    {
     "data": {
      "text/html": [
       "<span><a href=\"#\"><b>Final thresholded image</b></a><img src=\"sample/thr.jpg\"></img></span>"
      ]
     },
     "metadata": {},
     "output_type": "display_data"
    }
   ],
   "source": [
    "listOfPalms.ForEach(x => {\n",
    "    var skel = new OpenCvSharp.Mat(x.ROI.Size(), OpenCvSharp.MatType.CV_8UC1, new OpenCvSharp.Scalar(0));\n",
    "    var temp = new OpenCvSharp.Mat();\n",
    "    var eroded = new OpenCvSharp.Mat();\n",
    "\n",
    "    var element = OpenCvSharp.Cv2.GetStructuringElement(OpenCvSharp.MorphShapes.Cross, elementSize);\n",
    "\n",
    "    do {\n",
    "        OpenCvSharp.Cv2.Erode(x.ROI, eroded, element);\n",
    "        OpenCvSharp.Cv2.Dilate(eroded, temp, element);\n",
    "        OpenCvSharp.Cv2.Subtract(x.ROI, temp, temp);\n",
    "        OpenCvSharp.Cv2.BitwiseOr(skel, temp, skel);\n",
    "        eroded.CopyTo(x.ROI);\n",
    "\n",
    "    } while (OpenCvSharp.Cv2.CountNonZero(x.ROI) != 0);\n",
    "\n",
    "    var thr = skel.Threshold(0, 255, OpenCvSharp.ThresholdTypes.Binary);\n",
    "    OpenCvSharp.Cv2.ImWrite(x.Directory + \"\\\\thr.jpg\", thr);\n",
    "});\n",
    "\n",
    "display(\n",
    "    span(\n",
    "        a[href: \"#\"](b(\"ROI image\")),\n",
    "        img[src: \"sample/ROI.jpg\"] /* used random image */\n",
    "    )\n",
    ");\n",
    "display(\n",
    "    span(\n",
    "        a[href: \"#\"](b(\"Final thresholded image\")),\n",
    "        img[src: \"sample/thr.jpg\"] /* used random image */\n",
    "    )\n",
    ");"
   ]
  },
  {
   "cell_type": "code",
   "execution_count": null,
   "metadata": {},
   "outputs": [],
   "source": []
  }
 ],
 "metadata": {
  "kernelspec": {
   "display_name": ".NET (C#)",
   "language": "C#",
   "name": ".net-csharp"
  },
  "language_info": {
   "file_extension": ".cs",
   "mimetype": "text/x-csharp",
   "name": "C#",
   "pygments_lexer": "csharp",
   "version": "8.0"
  }
 },
 "nbformat": 4,
 "nbformat_minor": 4
}
