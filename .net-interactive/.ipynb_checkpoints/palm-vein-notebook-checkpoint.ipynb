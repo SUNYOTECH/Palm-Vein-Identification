{
 "cells": [
  {
   "cell_type": "code",
   "execution_count": 1,
   "metadata": {},
   "outputs": [
    {
     "data": {
      "text/html": [
       "Installing package OpenCvSharp4.Windows, version 4.2.0.20200208......."
      ]
     },
     "metadata": {},
     "output_type": "display_data"
    },
    {
     "ename": "Unhandled exception",
     "evalue": "input.fsx (1,7)-(1,18) typecheck error The value or constructor 'OpenCvSharp' is not defined.",
     "output_type": "error",
     "traceback": [
      "input.fsx (1,7)-(1,18) typecheck error The value or constructor 'OpenCvSharp' is not defined."
     ]
    }
   ],
   "source": [
    "#r \"nuget:OpenCvSharp4.Windows, 4.2.0.20200208\"\n",
    "using OpenCvSharp;"
   ]
  },
  {
   "cell_type": "code",
   "execution_count": 2,
   "metadata": {},
   "outputs": [],
   "source": [
    "using System;\n",
    "using System.Drawing;\n",
    "using System.IO;\n",
    "using System.Linq;"
   ]
  },
  {
   "cell_type": "code",
   "execution_count": 3,
   "metadata": {},
   "outputs": [],
   "source": [
    "var imagesFolderPath = @\"F:\\Palm-vein-ID\\small-db\"; // path to images"
   ]
  },
  {
   "cell_type": "code",
   "execution_count": 4,
   "metadata": {},
   "outputs": [],
   "source": [
    "var imagesOutputDirectory = @\"F:\\Palm-vein-ID\\small-db\\output\"; // path to output directory"
   ]
  },
  {
   "cell_type": "code",
   "execution_count": 5,
   "metadata": {},
   "outputs": [],
   "source": [
    "public class PalmHandle {\n",
    "    public string FileName { get; set; }\n",
    "    public string Directory { get; set; }\n",
    "    public OpenCvSharp.Mat SourceImage { get; set; }\n",
    "    public OpenCvSharp.Mat ThresholdImage { get; set; } // = binary\n",
    "    \n",
    "    // get image params\n",
    "    public int Width { get; set; }\n",
    "    public int Height { get; set; }\n",
    "    \n",
    "    public OpenCvSharp.Mat ROI { get; set; }\n",
    "}\n",
    "\n",
    "public List<PalmHandle> listOfPalms = new List<PalmHandle>();"
   ]
  },
  {
   "cell_type": "code",
   "execution_count": 6,
   "metadata": {},
   "outputs": [
    {
     "name": "stdout",
     "output_type": "stream",
     "text": [
      "Total palm collection: 72\n",
      "001_l_460_01\n"
     ]
    },
    {
     "data": {
      "text/html": [
       "<span><a href=\"#\"><b>Sample source image</b></a><img height=\"400\" src=\"sample/source.jpg\" width=\"400\"></img></span>"
      ]
     },
     "metadata": {},
     "output_type": "display_data"
    }
   ],
   "source": [
    "// get list of all images\n",
    "var listOfImages = Directory.GetFiles(imagesFolderPath, \"*.jpg\")\n",
    "    .ToList();\n",
    "    \n",
    "// get list of all filenames without .jpg\n",
    "listOfImages.ForEach(x => {\n",
    "        x = x.Remove(0, x.LastIndexOf('\\\\') + 1)\n",
    "            .Replace(\".jpg\", \"\");\n",
    "        \n",
    "        listOfPalms.Add(new PalmHandle() {\n",
    "            FileName = x\n",
    "        });\n",
    "    }\n",
    ");\n",
    "                                               \n",
    "Console.WriteLine($\"Total palm collection: {listOfPalms.Count}\");\n",
    "Console.WriteLine(listOfPalms[0].FileName);\n",
    "\n",
    "display(\n",
    "    span(\n",
    "        a[href: \"#\"](b(\"Sample source image\")),\n",
    "        img[src: \"sample/source.jpg\", height: 400, width: 400] /* used random image */\n",
    "    )\n",
    ");"
   ]
  },
  {
   "cell_type": "code",
   "execution_count": 7,
   "metadata": {},
   "outputs": [],
   "source": [
    "// create directories for \n",
    "listOfPalms.ForEach(x => {\n",
    "    x.Directory = $\"{imagesOutputDirectory}\\\\{x.FileName}\";\n",
    "    \n",
    "    // remove directory if not empty\n",
    "    if(Directory.Exists(x.Directory) \n",
    "       && Directory.GetFiles(x.Directory).Length > 0) {\n",
    "        Directory.Delete(x.Directory, true); // recursive\n",
    "    }\n",
    "    Directory.CreateDirectory(x.Directory);\n",
    "});"
   ]
  },
  {
   "cell_type": "code",
   "execution_count": 8,
   "metadata": {},
   "outputs": [
    {
     "name": "stdout",
     "output_type": "stream",
     "text": [
      "Mat [ 576*768*CV_8UC1, IsContinuous=True, IsSubmatrix=False, Ptr=0x1320e0bf8e0, Data=0x1321b5be400 ]\n",
      "Height: 576; Width: 768\n"
     ]
    }
   ],
   "source": [
    "// add 7200 images to collection\n",
    "listOfPalms.ForEach(x => {\n",
    "    var path = imagesFolderPath + \"\\\\\" + x.FileName + \".jpg\";\n",
    "    x.SourceImage = OpenCvSharp.Cv2.ImRead(\n",
    "        path, OpenCvSharp.ImreadModes.Grayscale);\n",
    "    \n",
    "    if(!File.Exists($\"{x.Directory}\\\\source.jpg\"))\n",
    "        File.Copy(path, $\"{x.Directory}\\\\source.jpg\");\n",
    "    \n",
    "    x.Height = x.SourceImage.Size().Height;\n",
    "    x.Width = x.SourceImage.Size().Width;\n",
    "});\n",
    "\n",
    "// debug\n",
    "Console.WriteLine(listOfPalms[0].SourceImage);\n",
    "Console.WriteLine($\"Height: {listOfPalms[0].Height}; Width: {listOfPalms[0].Width}\");"
   ]
  },
  {
   "cell_type": "code",
   "execution_count": 9,
   "metadata": {},
   "outputs": [],
   "source": [
    "// apply threshold\n",
    "listOfPalms.ForEach(x => {\n",
    "    x.ThresholdImage = x.SourceImage.Threshold (0, 255, \n",
    "                                    OpenCvSharp.ThresholdTypes.Otsu);\n",
    "    \n",
    "    // save for debug\n",
    "    OpenCvSharp.Cv2.ImWrite(x.Directory + \"\\\\binary.jpg\", x.ThresholdImage);\n",
    "});"
   ]
  },
  {
   "cell_type": "code",
   "execution_count": 10,
   "metadata": {},
   "outputs": [
    {
     "data": {
      "text/html": [
       "<span><a href=\"#\"><b>Binary image sample</b></a><img height=\"400\" src=\"sample/binary.jpg\" width=\"400\"></img></span>"
      ]
     },
     "metadata": {},
     "output_type": "display_data"
    },
    {
     "data": {
      "text/html": [
       "<center><b>ROI extraction</b></center><hr />"
      ]
     },
     "metadata": {},
     "output_type": "display_data"
    }
   ],
   "source": [
    "display(\n",
    "    span(\n",
    "        a[href: \"#\"](b(\"Binary image sample\")),\n",
    "        img[src: \"sample/binary.jpg\", height: 400, width: 400] /* used random image */\n",
    "    )\n",
    ");\n",
    "\n",
    "display(HTML(\"<center><b>ROI extraction</b></center><hr />\"));"
   ]
  },
  {
   "cell_type": "code",
   "execution_count": 11,
   "metadata": {},
   "outputs": [],
   "source": [
    "listOfPalms.ForEach(x => {\n",
    "    var i1 = x.Height - 50;\n",
    "    var i2 = x.Width - 50;\n",
    "\n",
    "    var radius = 50;\n",
    "    int pX = 0;\n",
    "    int pY = 0;\n",
    "\n",
    "    for(int i = 50; i != i1; i++) {\n",
    "        for(int j = 50; j != i2; j++) {\n",
    "            if(x.ThresholdImage.Get<byte>(i, j) == 255) {\n",
    "                int a = 0;\n",
    "                for (a = 1; a < 360; a++) {\n",
    "                    var y1 = Convert.ToInt16 (j + radius * Math.Cos (a * Math.PI / 180));\n",
    "                    var x1 = Convert.ToInt16 (i - radius * Math.Sin (a * Math.PI / 180));\n",
    "\n",
    "                    if (x1 < 1 || x1 > i1 || y1 < 1 || y1 > i2 || x.ThresholdImage.Get<byte> (x1, y1) == 0)\n",
    "                        break;\n",
    "                    }\n",
    "\n",
    "                if (a == 360) {\n",
    "                    radius += 10;\n",
    "                    pX = i;\n",
    "                    pY = j;\n",
    "                }\n",
    "            }\n",
    "        }\n",
    "    }\n",
    "\n",
    "    radius = radius - 10;\n",
    "\n",
    "    var x0 = Convert.ToInt16 (pY - Math.Sqrt (2) * radius / 2);\n",
    "    var y0 = Convert.ToInt16 (pX - Math.Sqrt (2) * radius / 2);\n",
    "    var wsize = Convert.ToInt16 (Math.Sqrt (2) * radius);\n",
    "\n",
    "    var rect = new OpenCvSharp.Rect(x0, y0, wsize, wsize);\n",
    "    \n",
    "    // for visual debug\n",
    "    OpenCvSharp.Mat drawROIImage = new OpenCvSharp.Mat();\n",
    "    x.SourceImage.CopyTo(drawROIImage);\n",
    "    drawROIImage.Rectangle(rect, OpenCvSharp.Scalar.White);\n",
    "    \n",
    "    x.ROI = new OpenCvSharp.Mat(x.SourceImage, rect);   \n",
    "    OpenCvSharp.Cv2.ImWrite(x.Directory + \"\\\\ROIOnSource.jpg\", drawROIImage);\n",
    "    OpenCvSharp.Cv2.ImWrite(x.Directory + \"\\\\ROI.jpg\", x.ROI);\n",
    "});"
   ]
  },
  {
   "cell_type": "code",
   "execution_count": 12,
   "metadata": {},
   "outputs": [
    {
     "data": {
      "text/html": [
       "<span><a href=\"#\"><b>Extracted ROI on source image</b></a><img height=\"400\" src=\"sample/ROIOnSource.jpg\" width=\"400\"></img></span>"
      ]
     },
     "metadata": {},
     "output_type": "display_data"
    }
   ],
   "source": [
    "display(\n",
    "    span(\n",
    "        a[href: \"#\"](b(\"Extracted ROI on source image\")),\n",
    "        img[src: \"sample/ROIOnSource.jpg\", height: 400, width: 400] /* used random image */\n",
    "    )\n",
    ");"
   ]
  },
  {
   "cell_type": "code",
   "execution_count": 13,
   "metadata": {},
   "outputs": [
    {
     "data": {
      "text/html": [
       "<span><a href=\"#\"><b>ROI</b></a><img src=\"sample/ROI.jpg\"></img></span>"
      ]
     },
     "metadata": {},
     "output_type": "display_data"
    }
   ],
   "source": [
    "display(\n",
    "    span(\n",
    "        a[href: \"#\"](b(\"ROI\")),\n",
    "        img[src: \"sample/ROI.jpg\"] /* used random image */\n",
    "    )\n",
    ");"
   ]
  },
  {
   "cell_type": "code",
   "execution_count": null,
   "metadata": {},
   "outputs": [],
   "source": []
  }
 ],
 "metadata": {
  "kernelspec": {
   "display_name": ".NET (C#)",
   "language": "C#",
   "name": ".net-csharp"
  },
  "language_info": {
   "file_extension": ".cs",
   "mimetype": "text/x-csharp",
   "name": "C#",
   "pygments_lexer": "csharp",
   "version": "8.0"
  }
 },
 "nbformat": 4,
 "nbformat_minor": 4
}
