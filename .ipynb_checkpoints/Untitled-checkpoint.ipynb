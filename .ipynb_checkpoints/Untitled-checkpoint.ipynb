{
 "cells": [
  {
   "cell_type": "code",
   "execution_count": 1,
   "metadata": {},
   "outputs": [],
   "source": [
    "import numpy as np\n",
    "import cv2"
   ]
  },
  {
   "cell_type": "code",
   "execution_count": 2,
   "metadata": {},
   "outputs": [],
   "source": [
    "# Load the 600x600 image and convert to grayscale\n",
    "img = cv2.imread(\"F:/Palm-vein-ID/small-db/output/001_l_940_01/ROI_Median.jpg\")"
   ]
  },
  {
   "cell_type": "code",
   "execution_count": 3,
   "metadata": {},
   "outputs": [
    {
     "name": "stdout",
     "output_type": "stream",
     "text": [
      "reduced noise\n"
     ]
    },
    {
     "data": {
      "text/plain": [
       "True"
      ]
     },
     "execution_count": 3,
     "metadata": {},
     "output_type": "execute_result"
    }
   ],
   "source": [
    "gray = cv2.cvtColor(img, cv2.COLOR_BGR2GRAY)\n",
    "noise = cv2.fastNlMeansDenoising(gray)\n",
    "noise = cv2.cvtColor(noise, cv2.COLOR_GRAY2BGR)\n",
    "print(\"reduced noise\")\n",
    "\n",
    "cv2.imwrite(\"F:/Palm-vein-ID/small-db/output/001_l_940_01/reduce_noise_py.jpg\", noise)"
   ]
  },
  {
   "cell_type": "code",
   "execution_count": 4,
   "metadata": {},
   "outputs": [
    {
     "name": "stdout",
     "output_type": "stream",
     "text": [
      "equalized hist\n"
     ]
    },
    {
     "data": {
      "text/plain": [
       "True"
      ]
     },
     "execution_count": 4,
     "metadata": {},
     "output_type": "execute_result"
    }
   ],
   "source": [
    "# equalist hist\n",
    "kernel = np.ones((7,7),np.uint8)\n",
    "img = cv2.morphologyEx(noise, cv2.MORPH_OPEN, kernel)\n",
    "img_yuv = cv2.cvtColor(img, cv2.COLOR_BGR2YUV)\n",
    "img_yuv[:,:,0] = cv2.equalizeHist(img_yuv[:,:,0])\n",
    "img_output = cv2.cvtColor(img_yuv, cv2.COLOR_YUV2BGR)\n",
    "print(\"equalized hist\")\n",
    "\n",
    "cv2.imwrite(\"F:/Palm-vein-ID/small-db/output/001_l_940_01/equalized_hist_py.jpg\", img_output)"
   ]
  },
  {
   "cell_type": "code",
   "execution_count": 5,
   "metadata": {},
   "outputs": [
    {
     "name": "stdout",
     "output_type": "stream",
     "text": [
      "inverted\n"
     ]
    },
    {
     "data": {
      "text/plain": [
       "True"
      ]
     },
     "execution_count": 5,
     "metadata": {},
     "output_type": "execute_result"
    }
   ],
   "source": [
    "inv = cv2.bitwise_not(img_output)\n",
    "print (\"inverted\")\n",
    "\n",
    "cv2.imwrite(\"F:/Palm-vein-ID/small-db/output/001_l_940_01/inverted_py.jpg\", inv)"
   ]
  },
  {
   "cell_type": "code",
   "execution_count": 6,
   "metadata": {},
   "outputs": [
    {
     "name": "stdout",
     "output_type": "stream",
     "text": [
      "eroded\n"
     ]
    },
    {
     "data": {
      "text/plain": [
       "True"
      ]
     },
     "execution_count": 6,
     "metadata": {},
     "output_type": "execute_result"
    }
   ],
   "source": [
    "# erode\n",
    "gray = cv2.cvtColor(inv, cv2.COLOR_BGR2GRAY)\n",
    "erosion = cv2.erode(gray,kernel,iterations = 1)\n",
    "print(\"eroded\")\n",
    "\n",
    "cv2.imwrite(\"F:/Palm-vein-ID/small-db/output/001_l_940_01/eroded_py.jpg\", erosion)"
   ]
  },
  {
   "cell_type": "code",
   "execution_count": 11,
   "metadata": {},
   "outputs": [],
   "source": [
    "# skel\n",
    "img = gray.copy()\n",
    "skel = img.copy()\n",
    "skel[:,:] = 0\n",
    "kernel = cv2.getStructuringElement(cv2.MORPH_CROSS, (5,5))\n",
    "iterations = 0\n",
    "\n",
    "while True:\n",
    "    eroded = cv2.morphologyEx(img, cv2.MORPH_ERODE, kernel)    \n",
    "    temp = cv2.morphologyEx(eroded, cv2.MORPH_DILATE, kernel)\n",
    "    temp  = cv2.subtract(img, temp)\n",
    "    skel = cv2.bitwise_or(skel, temp)\n",
    "    cv2.imwrite(\"F:/Palm-vein-ID/small-db/output/001_l_940_01/skel_skel_py.jpg\", skel)\n",
    "\n",
    "    img[:,:] = eroded[:,:]\n",
    "    if cv2.countNonZero(img) == 0:\n",
    "        break\n",
    "cv2.imwrite(\"F:/Palm-vein-ID/small-db/output/001_l_940_01/skel_skel_py.jpg\", img)"
   ]
  },
  {
   "cell_type": "code",
   "execution_count": 8,
   "metadata": {},
   "outputs": [
    {
     "data": {
      "text/plain": [
       "True"
      ]
     },
     "execution_count": 8,
     "metadata": {},
     "output_type": "execute_result"
    }
   ],
   "source": [
    "cv2.imwrite(\"F:/Palm-vein-ID/small-db/output/001_l_940_01/skel_py.jpg\", skel)"
   ]
  },
  {
   "cell_type": "code",
   "execution_count": 9,
   "metadata": {},
   "outputs": [
    {
     "data": {
      "text/plain": [
       "True"
      ]
     },
     "execution_count": 9,
     "metadata": {},
     "output_type": "execute_result"
    }
   ],
   "source": [
    "# applying a threshold so make veins more visible \n",
    "ret, thr = cv2.threshold(skel, 5,255, cv2.THRESH_BINARY);\n",
    "cv2.imwrite(\"F:/Palm-vein-ID/small-db/output/001_l_940_01/thr_py.jpg\", thr)"
   ]
  },
  {
   "cell_type": "code",
   "execution_count": null,
   "metadata": {},
   "outputs": [],
   "source": []
  },
  {
   "cell_type": "code",
   "execution_count": null,
   "metadata": {},
   "outputs": [],
   "source": []
  }
 ],
 "metadata": {
  "kernelspec": {
   "display_name": "Python 3",
   "language": "python",
   "name": "python3"
  },
  "language_info": {
   "codemirror_mode": {
    "name": "ipython",
    "version": 3
   },
   "file_extension": ".py",
   "mimetype": "text/x-python",
   "name": "python",
   "nbconvert_exporter": "python",
   "pygments_lexer": "ipython3",
   "version": "3.7.3"
  }
 },
 "nbformat": 4,
 "nbformat_minor": 4
}
