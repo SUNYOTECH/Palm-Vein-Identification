{
 "cells": [
  {
   "cell_type": "code",
   "execution_count": 1,
   "metadata": {},
   "outputs": [
    {
     "data": {
      "text/html": [
       "Installing package OpenCvSharp4.Windows, version 4.2.0.20200208................"
      ]
     },
     "metadata": {},
     "output_type": "display_data"
    },
    {
     "ename": "Unhandled exception",
     "evalue": "input.fsx (1,7)-(1,18) typecheck error The value or constructor 'OpenCvSharp' is not defined.",
     "output_type": "error",
     "traceback": [
      "input.fsx (1,7)-(1,18) typecheck error The value or constructor 'OpenCvSharp' is not defined."
     ]
    }
   ],
   "source": [
    "#r \"nuget:OpenCvSharp4.Windows, 4.2.0.20200208\"\n",
    "using OpenCvSharp;"
   ]
  },
  {
   "cell_type": "code",
   "execution_count": 2,
   "metadata": {},
   "outputs": [],
   "source": [
    "using System;\n",
    "using System.Drawing;\n",
    "using System.IO;\n",
    "using System.Linq;"
   ]
  },
  {
   "cell_type": "code",
   "execution_count": 3,
   "metadata": {},
   "outputs": [],
   "source": [
    "var imagesFolderPath = @\"F:\\Palm-vein-ID\\images\"; // path to images"
   ]
  },
  {
   "cell_type": "code",
   "execution_count": 4,
   "metadata": {},
   "outputs": [],
   "source": [
    "var imagesOutputDirectory = @\"F:\\Palm-vein-ID\\images\\output\"; // path to output directory"
   ]
  },
  {
   "cell_type": "code",
   "execution_count": 5,
   "metadata": {},
   "outputs": [],
   "source": [
    "public class PalmHandle {\n",
    "    public string FileName { get; set; }\n",
    "    public string Directory { get; set; }\n",
    "    public OpenCvSharp.Mat SourceImage { get; set; }\n",
    "    public OpenCvSharp.Mat ThresholdImage { get; set; } // = binary\n",
    "}\n",
    "\n",
    "public List<PalmHandle> listOfPalms = new List<PalmHandle>();"
   ]
  },
  {
   "cell_type": "code",
   "execution_count": 6,
   "metadata": {},
   "outputs": [
    {
     "name": "stdout",
     "output_type": "stream",
     "text": [
      "Total palm collection: 7200\n",
      "001_l_460_02\n"
     ]
    }
   ],
   "source": [
    "// get list of all images\n",
    "var listOfImages = Directory.GetFiles(imagesFolderPath, \"*.jpg\")\n",
    "    .ToList();\n",
    "    \n",
    "// get list of all filenames without .jpg\n",
    "listOfImages.ForEach(x => {\n",
    "        x = x.Remove(0, x.LastIndexOf('\\\\') + 1)\n",
    "            .Replace(\".jpg\", \"\");\n",
    "        \n",
    "        listOfPalms.Add(new PalmHandle() {\n",
    "            FileName = x\n",
    "        });\n",
    "    }\n",
    ");\n",
    "                                               \n",
    "Console.WriteLine($\"Total palm collection: {listOfPalms.Count}\");\n",
    "Console.WriteLine(listOfPalms[1].FileName);"
   ]
  },
  {
   "cell_type": "code",
   "execution_count": 7,
   "metadata": {},
   "outputs": [],
   "source": [
    "// create directories for \n",
    "listOfPalms.ForEach(x => {\n",
    "    x.Directory = $\"{imagesOutputDirectory}\\\\{x.FileName}\";\n",
    "    \n",
    "    // remove directory if not empty\n",
    "    if(Directory.Exists(x.Directory) \n",
    "       && Directory.GetFiles(x.Directory).Length > 0) {\n",
    "        Directory.Delete(x.Directory, true); // recursive\n",
    "    }\n",
    "    Directory.CreateDirectory(x.Directory);\n",
    "});"
   ]
  },
  {
   "cell_type": "code",
   "execution_count": 8,
   "metadata": {},
   "outputs": [
    {
     "name": "stdout",
     "output_type": "stream",
     "text": [
      "Mat [ 576*768*CV_8UC1, IsContinuous=True, IsSubmatrix=False, Ptr=0x12d749bfec0, Data=0x1320b344680 ]\r\n"
     ]
    }
   ],
   "source": [
    "// add 7200 images to collection\n",
    "listOfPalms.ForEach(x => \n",
    "    x.SourceImage = OpenCvSharp.Cv2.ImRead(\n",
    "        imagesFolderPath + \"\\\\\" + x.FileName + \".jpg\", \n",
    "        OpenCvSharp.ImreadModes.Grayscale));\n",
    "\n",
    "// debug\n",
    "Console.WriteLine(listOfPalms[6599].SourceImage);"
   ]
  },
  {
   "cell_type": "code",
   "execution_count": 9,
   "metadata": {},
   "outputs": [],
   "source": [
    "// apply threshold\n",
    "listOfPalms.ForEach(x => {\n",
    "    x.ThresholdImage = x.SourceImage.Threshold (0, 255, \n",
    "                                    OpenCvSharp.ThresholdTypes.Otsu);\n",
    "    \n",
    "    // save for debug\n",
    "    OpenCvSharp.Cv2.ImWrite(x.Directory + \"\\\\binary.jpg\", x.ThresholdImage);\n",
    "});"
   ]
  },
  {
   "cell_type": "code",
   "execution_count": 16,
   "metadata": {},
   "outputs": [
    {
     "data": {
      "text/html": [
       "<span><a href=\"#\"><b>Binary image sample</b></a><img height=\"400\" src=\"binary.jpg\" width=\"400\"></img></span>"
      ]
     },
     "metadata": {},
     "output_type": "display_data"
    }
   ],
   "source": [
    "// var debugBinaryImage = listOfPalms[new Random().Next(listOfPalms.Count)];\n",
    "\n",
    "\n",
    "display(\n",
    "    span(\n",
    "        a[href: \"#\"](b(\"Binary image sample\")),\n",
    "        img[src: \"binary.jpg\", height: 400, width: 400] /* used random image */\n",
    "    )\n",
    ");"
   ]
  },
  {
   "cell_type": "code",
   "execution_count": null,
   "metadata": {},
   "outputs": [],
   "source": []
  }
 ],
 "metadata": {
  "kernelspec": {
   "display_name": ".NET (C#)",
   "language": "C#",
   "name": ".net-csharp"
  },
  "language_info": {
   "file_extension": ".cs",
   "mimetype": "text/x-csharp",
   "name": "C#",
   "pygments_lexer": "csharp",
   "version": "8.0"
  }
 },
 "nbformat": 4,
 "nbformat_minor": 4
}
